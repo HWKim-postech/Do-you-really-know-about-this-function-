{
  "nbformat": 4,
  "nbformat_minor": 0,
  "metadata": {
    "colab": {
      "name": "Untitled3.ipynb",
      "provenance": [],
      "authorship_tag": "ABX9TyPkZgX31Oiu5cTC+/A/Rnrw",
      "include_colab_link": true
    },
    "kernelspec": {
      "name": "python3",
      "display_name": "Python 3"
    }
  },
  "cells": [
    {
      "cell_type": "markdown",
      "metadata": {
        "id": "view-in-github",
        "colab_type": "text"
      },
      "source": [
        "<a href=\"https://colab.research.google.com/github/HWKim-postech/Do-you-really-know-about-this-function-/blob/main/Tensor%20and%20Parser.ipynb\" target=\"_parent\"><img src=\"https://colab.research.google.com/assets/colab-badge.svg\" alt=\"Open In Colab\"/></a>"
      ]
    },
    {
      "cell_type": "markdown",
      "metadata": {
        "id": "vQ6sH94u0aCP"
      },
      "source": [
        "#Functions\r\n",
        "\r\n",
        "Last time, we studied basic FC, CNN codes. If you are a very beginning about ML, I think there're tons of functions that you've never seen before.\r\n",
        "\r\n",
        "When I studied ML, I was also confused with there functions and people didn't let me know easily.\r\n",
        "\r\n",
        "So, in this section, we're gonna look carefully about the functions in ML.\r\n",
        "\r\n",
        "I want to start with : Tensor(axis), Parser."
      ]
    },
    {
      "cell_type": "markdown",
      "metadata": {
        "id": "yd-Exctd1ZTT"
      },
      "source": [
        "##Actually, tensor is usually not considered as a typical \"function\". But Tensor is the most important concept you have to understand. \r\n",
        "\r\n",
        "When we make our ML model, we have to use hundreds of features as input. This is not a 1d, 2d array. So smart people invented tensor which is beautiful tool to deal with matrix that have large dimension.\r\n",
        "\r\n",
        "Let's start with basic matrices.\r\n",
        "\r\n",
        "This is the 1X3 matrix (or array)"
      ]
    },
    {
      "cell_type": "code",
      "metadata": {
        "colab": {
          "base_uri": "https://localhost:8080/"
        },
        "id": "zbzozS7Vzzrt",
        "outputId": "cd136f08-725a-485a-c029-ac28900be92d"
      },
      "source": [
        "import numpy as np\r\n",
        "import torch\r\n",
        "Mat1d = np.array([1, 2, 3])\r\n",
        "print(Mat1d)\r\n",
        "\r\n",
        "print(\"Rank:%d Size:%d\"%(Mat1d.ndim, Mat1d.size))"
      ],
      "execution_count": 23,
      "outputs": [
        {
          "output_type": "stream",
          "text": [
            "[1 2 3]\n",
            "Rank:1 Size:3\n"
          ],
          "name": "stdout"
        }
      ]
    },
    {
      "cell_type": "markdown",
      "metadata": {
        "id": "fL5EHzAG1_V6"
      },
      "source": [
        "And 3X3 matrix (2d)"
      ]
    },
    {
      "cell_type": "code",
      "metadata": {
        "colab": {
          "base_uri": "https://localhost:8080/"
        },
        "id": "-mhVpCPb2Eaw",
        "outputId": "257b02e0-cb18-4e99-d50f-a158cba5bf36"
      },
      "source": [
        "Mat2d = np.array([[1, 2, 3], [4, 5, 6], [7, 8, 9]])\r\n",
        "print(Mat2d)\r\n",
        "\r\n",
        "print(\"Rank:%d Size:%d\"%(Mat2d.ndim, Mat2d.size))"
      ],
      "execution_count": 22,
      "outputs": [
        {
          "output_type": "stream",
          "text": [
            "[[1 2 3]\n",
            " [4 5 6]\n",
            " [7 8 9]]\n",
            "Rank:2 Size:9\n"
          ],
          "name": "stdout"
        }
      ]
    },
    {
      "cell_type": "markdown",
      "metadata": {
        "id": "OSteJB_o4jI_"
      },
      "source": [
        "And actually we can make 3D matrix by numpy. But I'll make it by using tensor(torch)"
      ]
    },
    {
      "cell_type": "code",
      "metadata": {
        "colab": {
          "base_uri": "https://localhost:8080/"
        },
        "id": "TGzlB4mV4wNX",
        "outputId": "fce14a14-9e37-4a22-c34b-ecfcdf28ec6a"
      },
      "source": [
        "Tensor3d = torch.tensor([[[1, 2, 3], [4, 5, 6]], [[7, 8, 9], [10, 11, 12]],[[13, 14,15], [16, 17, 18]]])\r\n",
        "\r\n",
        "print(Tensor3d)\r\n",
        "\r\n",
        "print(\"Rank: %d\"%Tensor3d.ndim, Tensor3d.size(), Tensor3d.type())"
      ],
      "execution_count": 53,
      "outputs": [
        {
          "output_type": "stream",
          "text": [
            "tensor([[[ 1,  2,  3],\n",
            "         [ 4,  5,  6]],\n",
            "\n",
            "        [[ 7,  8,  9],\n",
            "         [10, 11, 12]],\n",
            "\n",
            "        [[13, 14, 15],\n",
            "         [16, 17, 18]]])\n",
            "Rank: 3 torch.Size([3, 2, 3]) torch.LongTensor\n"
          ],
          "name": "stdout"
        }
      ]
    },
    {
      "cell_type": "markdown",
      "metadata": {
        "id": "EPrDwJRi6Yyk"
      },
      "source": [
        "So, you can extend it to 4, 5, 6-----as many dimensions as you want.\r\n",
        "\r\n",
        "I think you already know about matrix multiplication, add, element-wise, inplace operate--- this properties are quite easy and intuitive.\r\n",
        "\r\n",
        "But, including me, \"axis\" is very confusing. \r\n",
        "\r\n",
        "I want to throw a question : What's gonna happen if we add Tensor3d along dim = 0, 1, 2?"
      ]
    },
    {
      "cell_type": "code",
      "metadata": {
        "colab": {
          "base_uri": "https://localhost:8080/"
        },
        "id": "Wsuy7K9G6XyP",
        "outputId": "dbfe884a-a4f0-4c79-bdda-7cd94d624bba"
      },
      "source": [
        "#First , dim = 0\r\n",
        "print(Tensor3d.sum(dim = 0))\r\n",
        "print(\"\\n\")\r\n",
        "#Second, dim = 1\r\n",
        "print(Tensor3d.sum(dim = 1))\r\n",
        "print(\"\\n\")\r\n",
        "#dim = 2\r\n",
        "print(Tensor3d.sum(dim = 2))"
      ],
      "execution_count": 40,
      "outputs": [
        {
          "output_type": "stream",
          "text": [
            "tensor([[21, 24, 27],\n",
            "        [30, 33, 36]])\n",
            "\n",
            "\n",
            "tensor([[ 5,  7,  9],\n",
            "        [17, 19, 21],\n",
            "        [29, 31, 33]])\n",
            "\n",
            "\n",
            "tensor([[ 6, 15],\n",
            "        [24, 33],\n",
            "        [42, 51]])\n"
          ],
          "name": "stdout"
        }
      ]
    },
    {
      "cell_type": "markdown",
      "metadata": {
        "id": "BBFECJC78VNn"
      },
      "source": [
        "What happens? Just imagine 3d matrix and think about what happened.\r\n",
        "\r\n",
        "\r\n",
        "\r\n",
        "I'm sure that you could easily find out the principal. \r\n",
        "\r\n",
        "1. dim = 0 : Sum is operated by channel by channel. Same column, row coordinate elements are summed.\r\n",
        "\r\n",
        "2. dim = 1 : In each channel, sum is operated by collapsing column. So it changes to 3 of 1X3 matrices, and turn into 3X3 matrix.\r\n",
        "\r\n",
        "3. dim = 2 : In each channel, sum is operated by collapsing row. So it changes to 3 of 1X2 matrices, and turn into 3X2 matrix.\r\n",
        "\r\n",
        "You can find the web site in my basic FC, CNN codes that visualize the axis and dimension. (\"collapse row, column\" is an expression of this web site.)"
      ]
    },
    {
      "cell_type": "markdown",
      "metadata": {
        "id": "CGR9CDJNCc-u"
      },
      "source": [
        "Next, parser. parser eases meaningless work. We can just add constants and use it."
      ]
    },
    {
      "cell_type": "code",
      "metadata": {
        "colab": {
          "base_uri": "https://localhost:8080/"
        },
        "id": "h7IFuYo8Djmt",
        "outputId": "5b1e5b1a-5933-49ba-945e-ccf2cf585edd"
      },
      "source": [
        "import argparse\r\n",
        "parser = argparse.ArgumentParser()\r\n",
        "\r\n",
        "parser.add_argument(\"--BatchSize\", type = int, default = 32, help = \"Batch size\")\r\n",
        "parser.add_argument(\"--Epochs\", type = int, default = 100, help = \"Epochs\")\r\n",
        "parser.add_argument(\"--lr\", type = float, default = 0.003, help = \"Learning Rate\")\r\n",
        "parser.add_argument(\"--betas\", type = float, default = (0.9, 0.999), help = \"beta1, beta2 for Adam\")\r\n",
        "\r\n",
        "opt = parser.parse_args(args=[])\r\n",
        "\r\n",
        "\r\n",
        "print(opt.betas, opt.lr)"
      ],
      "execution_count": 72,
      "outputs": [
        {
          "output_type": "stream",
          "text": [
            "(0.9, 0.999) 0.003\n"
          ],
          "name": "stdout"
        }
      ]
    },
    {
      "cell_type": "markdown",
      "metadata": {
        "id": "v7gkM3XOExrM"
      },
      "source": [
        "It's done! Now we can easily use and adjust parameters & hyper parameters."
      ]
    }
  ]
}